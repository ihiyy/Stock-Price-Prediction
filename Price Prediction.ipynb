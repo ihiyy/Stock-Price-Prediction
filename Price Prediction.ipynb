{
 "cells": [
  {
   "cell_type": "code",
   "execution_count": 1,
   "metadata": {},
   "outputs": [],
   "source": [
    "import pandas as pd"
   ]
  },
  {
   "cell_type": "code",
   "execution_count": 2,
   "metadata": {},
   "outputs": [],
   "source": [
    "#Load the training set\n",
    "df_train = pd.read_csv(\"AMZN_train.csv\")"
   ]
  },
  {
   "cell_type": "code",
   "execution_count": 4,
   "metadata": {},
   "outputs": [
    {
     "data": {
      "text/plain": [
       "<bound method NDFrame.describe of             Date        Open        High         Low       Close   Adj Close   \n",
       "0     1997-05-15    2.437500    2.500000    1.927083    1.958333    1.958333  \\\n",
       "1     1997-05-16    1.968750    1.979167    1.708333    1.729167    1.729167   \n",
       "2     1997-05-19    1.760417    1.770833    1.625000    1.708333    1.708333   \n",
       "3     1997-05-20    1.729167    1.750000    1.635417    1.635417    1.635417   \n",
       "4     1997-05-21    1.635417    1.645833    1.375000    1.427083    1.427083   \n",
       "...          ...         ...         ...         ...         ...         ...   \n",
       "4776  2016-05-09  673.950012  686.979980  671.409973  679.750000  679.750000   \n",
       "4777  2016-05-10  694.000000  704.549988  693.500000  703.070007  703.070007   \n",
       "4778  2016-05-11  705.789978  719.000000  701.650024  713.229980  713.229980   \n",
       "4779  2016-05-12  717.380005  722.450012  711.510010  717.929993  717.929993   \n",
       "4780  2016-05-13  714.640015  719.250000  706.510010  709.919983  709.919983   \n",
       "\n",
       "        Volume  \n",
       "0     72156000  \n",
       "1     14700000  \n",
       "2      6106800  \n",
       "3      5467200  \n",
       "4     18853200  \n",
       "...        ...  \n",
       "4776   3982200  \n",
       "4777   6105600  \n",
       "4778   7338200  \n",
       "4779   5048200  \n",
       "4780   4763400  \n",
       "\n",
       "[4781 rows x 7 columns]>"
      ]
     },
     "execution_count": 4,
     "metadata": {},
     "output_type": "execute_result"
    }
   ],
   "source": [
    "# (#rows, #columns)\n",
    "df_train.shape\n",
    "df_train.info\n",
    "df_train.describe"
   ]
  },
  {
   "cell_type": "code",
   "execution_count": null,
   "metadata": {},
   "outputs": [],
   "source": []
  }
 ],
 "metadata": {
  "kernelspec": {
   "display_name": "Python 3",
   "language": "python",
   "name": "python3"
  },
  "language_info": {
   "codemirror_mode": {
    "name": "ipython",
    "version": 3
   },
   "file_extension": ".py",
   "mimetype": "text/x-python",
   "name": "python",
   "nbconvert_exporter": "python",
   "pygments_lexer": "ipython3",
   "version": "3.9.13"
  },
  "orig_nbformat": 4
 },
 "nbformat": 4,
 "nbformat_minor": 2
}
